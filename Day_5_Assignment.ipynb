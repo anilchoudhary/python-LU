{
 "cells": [
  {
   "cell_type": "markdown",
   "metadata": {},
   "source": [
    "# Answer 1"
   ]
  },
  {
   "cell_type": "code",
   "execution_count": 14,
   "metadata": {},
   "outputs": [
    {
     "name": "stdout",
     "output_type": "stream",
     "text": [
      "[1, 1, 1, 2, 2, 3, 4, 4, 10, 56, 56, 0, 0, 0, 0, 0]\n"
     ]
    }
   ],
   "source": [
    "import sys\n",
    "List = [0,1,2,10,4,1,0,56,2,0,1,3,0,56,0,4]\n",
    "def fun(x):\n",
    "    if(x!=0):\n",
    "        return x\n",
    "    else:\n",
    "        return sys.maxsize\n",
    "List.sort(key=fun)\n",
    "print(List)"
   ]
  },
  {
   "cell_type": "markdown",
   "metadata": {},
   "source": [
    "# Answer 2 "
   ]
  },
  {
   "cell_type": "code",
   "execution_count": 36,
   "metadata": {},
   "outputs": [
    {
     "name": "stdout",
     "output_type": "stream",
     "text": [
      "[5, 10, 15, 20, 25, 30, 35, 40, 45, 50, 55, 60, 65, 70, 75, 80]\n"
     ]
    }
   ],
   "source": [
    "import sys\n",
    "list1 = [10,20,30,40,50,60,70,80]\n",
    "list2 = [5,15,25,35,45,55,65,75]\n",
    "list1.append(sys.maxsize)\n",
    "list2.append(sys.maxsize)\n",
    "list3 = []\n",
    "i = 0\n",
    "j = 0\n",
    "k = 0\n",
    "total_length = len(list1) + len(list2) - 2\n",
    "while k<total_length:\n",
    "    if(list1[i]>list2[j]):\n",
    "        list3.append(list2[j])\n",
    "        k+=1\n",
    "        j+=1\n",
    "    else:\n",
    "        list3.append(list1[i])\n",
    "        k+=1\n",
    "        i+=1\n",
    "# print(list1)\n",
    "# print(list2)\n",
    "print(list3)"
   ]
  },
  {
   "cell_type": "code",
   "execution_count": null,
   "metadata": {},
   "outputs": [],
   "source": []
  },
  {
   "cell_type": "code",
   "execution_count": null,
   "metadata": {},
   "outputs": [],
   "source": []
  }
 ],
 "metadata": {
  "kernelspec": {
   "display_name": "Python 3",
   "language": "python",
   "name": "python3"
  },
  "language_info": {
   "codemirror_mode": {
    "name": "ipython",
    "version": 3
   },
   "file_extension": ".py",
   "mimetype": "text/x-python",
   "name": "python",
   "nbconvert_exporter": "python",
   "pygments_lexer": "ipython3",
   "version": "3.7.4"
  }
 },
 "nbformat": 4,
 "nbformat_minor": 2
}
