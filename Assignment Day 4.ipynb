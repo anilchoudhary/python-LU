{
 "cells": [
  {
   "cell_type": "markdown",
   "metadata": {},
   "source": [
    "# Assignment 1 Day 4"
   ]
  },
  {
   "cell_type": "code",
   "execution_count": 6,
   "metadata": {},
   "outputs": [
    {
     "name": "stdout",
     "output_type": "stream",
     "text": [
      "it's a match\n"
     ]
    }
   ],
   "source": [
    "sublist = [1,1,5]\n",
    "listy = [1,5,6,4,1,2,3,5]\n",
    "j=0\n",
    "flag=0\n",
    "for i in range(0,len(listy)):\n",
    "    if(sublist[j]==listy[i]):\n",
    "        j= j+1\n",
    "        if j==3:\n",
    "            flag=1\n",
    "    else:\n",
    "        continue\n",
    "if(flag==1):\n",
    "    print(\"it's a match\")\n",
    "else:\n",
    "    print(\"it's gone\")"
   ]
  },
  {
   "cell_type": "code",
   "execution_count": 7,
   "metadata": {},
   "outputs": [
    {
     "name": "stdout",
     "output_type": "stream",
     "text": [
      "it's gone\n"
     ]
    }
   ],
   "source": [
    "sublist = [1,1,5]\n",
    "listy = [1,5,6,4,1,2,3,6]\n",
    "j=0\n",
    "flag=0\n",
    "for i in range(0,len(listy)):\n",
    "    if(sublist[j]==listy[i]):\n",
    "        j= j+1\n",
    "        if j==3:\n",
    "            flag=1\n",
    "    else:\n",
    "        continue\n",
    "if(flag==1):\n",
    "    print(\"it's a match\")\n",
    "else:\n",
    "    print(\"it's gone\")"
   ]
  },
  {
   "cell_type": "code",
   "execution_count": null,
   "metadata": {},
   "outputs": [],
   "source": [
    "# I would love to do assignment 2. but my college online practical vivas is going on. So, I need to study.\n",
    "# Can I submit assignment 2 after 14th May 2020?"
   ]
  }
 ],
 "metadata": {
  "kernelspec": {
   "display_name": "Python 3",
   "language": "python",
   "name": "python3"
  },
  "language_info": {
   "codemirror_mode": {
    "name": "ipython",
    "version": 3
   },
   "file_extension": ".py",
   "mimetype": "text/x-python",
   "name": "python",
   "nbconvert_exporter": "python",
   "pygments_lexer": "ipython3",
   "version": "3.7.4"
  }
 },
 "nbformat": 4,
 "nbformat_minor": 2
}
