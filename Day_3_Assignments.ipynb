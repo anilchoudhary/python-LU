{
 "cells": [
  {
   "cell_type": "markdown",
   "metadata": {},
   "source": [
    "# Assignment 1 Day 3"
   ]
  },
  {
   "cell_type": "code",
   "execution_count": 20,
   "metadata": {},
   "outputs": [],
   "source": [
    "'''WAP for taking one number a input and then using if elif else concept,\n",
    "assign a grade to the input number from A,B,C,D,E,Fail'''"
   ]
  },
  {
   "cell_type": "code",
   "execution_count": 8,
   "metadata": {},
   "outputs": [
    {
     "name": "stdout",
     "output_type": "stream",
     "text": [
      "Enter your marks out of 100: 95\n",
      "|-------|\n",
      "|   A   |\n",
      "|-------|\n"
     ]
    }
   ],
   "source": [
    "marks = int(input(\"Enter your marks out of 100: \"))\n",
    "if  90 <= marks < 100:\n",
    "    print(\"|-------|\")\n",
    "    print(\"|   A   |\")\n",
    "    print(\"|-------|\")\n",
    "elif 80 <= marks < 90:\n",
    "    print(\"|-------|\")\n",
    "    print(\"|   B   |\")\n",
    "    print(\"|-------|\")\n",
    "elif 70 <= marks < 80:\n",
    "    print(\"|-------|\")\n",
    "    print(\"|   C   |\")\n",
    "    print(\"|-------|\")\n",
    "elif 60 <= marks < 70:\n",
    "    print(\"|-------|\")\n",
    "    print(\"|   D   |\")\n",
    "    print(\"|-------|\") \n",
    "elif 50 <= marks < 60:\n",
    "    print(\"|-------|\")\n",
    "    print(\"|   E   |\")\n",
    "    print(\"|-------|\")\n",
    "elif 0 <= marks < 50:\n",
    "    print(\"|xxxxxxx|\")\n",
    "    print(\"|  Fail |\")\n",
    "    print(\"|xxxxxxx|\")\n",
    "else:\n",
    "    print(\"Please, enter correct marks...\")\n",
    "    \n"
   ]
  },
  {
   "cell_type": "markdown",
   "metadata": {},
   "source": [
    "# Assignment 2 Day 3"
   ]
  },
  {
   "cell_type": "code",
   "execution_count": null,
   "metadata": {},
   "outputs": [],
   "source": [
    "'''Guessing Team India Score in 20-20 Cricket -\n",
    "WAP gives you a random score of Team India in a cricket match, and a player has to\n",
    "guess the score given by computer in between 1 to 250. The rules are:\n",
    "1. If a player's guess is less than 1 or greater than 250, say \"Reduce your expectation for 20-20\n",
    "Cricket\"\n",
    "2. On a player's input, if their score guess is\n",
    "a. within 10 of the number, return \"Close By, you are True Indian Fan! \"\n",
    "b. further than 10 away from the number, return \"You don't watch that much! :P \"'''"
   ]
  },
  {
   "cell_type": "code",
   "execution_count": 15,
   "metadata": {},
   "outputs": [
    {
     "name": "stdout",
     "output_type": "stream",
     "text": [
      "Guess score of indian team: 234\n",
      "You don't watch that much! :P\n"
     ]
    }
   ],
   "source": [
    "import random\n",
    "random_score = random.randrange(1,251,1)\n",
    "#print(random_score)\n",
    "user_score = int(input(\"Guess score of indian team: \"))\n",
    "if user_score < 1 or user_score > 250:\n",
    "    print(\"Reduce your expectation for 20-20 Cricket\")\n",
    "elif (random_score-10) <= user_score <= (random_score+10):\n",
    "    print(\"Close By, you are True Indian Fan!\")\n",
    "else:\n",
    "    print(\"You don't watch that much! :P\")"
   ]
  },
  {
   "cell_type": "markdown",
   "metadata": {},
   "source": [
    "# Assignment 3 Day 3"
   ]
  },
  {
   "cell_type": "code",
   "execution_count": null,
   "metadata": {},
   "outputs": [],
   "source": [
    "'''WAP to Handle File using Python Script.\n",
    "1. Opening a File\n",
    "2. Writing - I love FCS\n",
    "3. Close the file\n",
    "4. Open the file again\n",
    "5. Show the content on screen'''"
   ]
  },
  {
   "cell_type": "code",
   "execution_count": 25,
   "metadata": {},
   "outputs": [
    {
     "name": "stdout",
     "output_type": "stream",
     "text": [
      "I love FCS\n"
     ]
    }
   ],
   "source": [
    "file = open('demo.txt', 'w')\n",
    "file.write(\"I love FCS\")\n",
    "file.close()\n",
    "file = open('demo.txt', 'r')\n",
    "txt = file.read()\n",
    "file.close()\n",
    "print(txt)"
   ]
  },
  {
   "cell_type": "markdown",
   "metadata": {},
   "source": [
    "# Assignment 4 Day 3"
   ]
  },
  {
   "cell_type": "code",
   "execution_count": null,
   "metadata": {},
   "outputs": [],
   "source": [
    "'''Roy wants to change his profile picture on Facebook. Now Facebook has some\n",
    "restrictions over the dimension of pictures that we can upload.\n",
    "Minimum dimension of the picture can be L x L, where L is the length of the side of the\n",
    "square.\n",
    "Now Roy has N photos of various dimensions.\n",
    "Dimension of a photo is denoted as W x H\n",
    "where W - width of the photo and H - Height of the photo\n",
    "When any photo is uploaded following events may occur:\n",
    "[1] If any of the width or height is less than L, the user is prompted to upload another one. Print \"UPLOAD\n",
    "ANOTHER\" in this case.\n",
    "[2] If width and height, both are large enough and\n",
    "(a) if the photo is already square then it is accepted. Print \"ACCEPTED\" in this case.\n",
    "(b) else the user is prompted to crop it. Print \"CROP IT\" in this case. (quotes are only for clarification)'''"
   ]
  },
  {
   "cell_type": "code",
   "execution_count": 27,
   "metadata": {},
   "outputs": [
    {
     "name": "stdout",
     "output_type": "stream",
     "text": [
      "Enter L: 4\n",
      "Enter N: 3\n",
      "enter w: 1\n",
      "enter h: 1\n",
      "UPLOAD ANOTHER\n",
      "enter w: 4\n",
      "enter h: 4\n",
      "ACCEPTED\n",
      "enter w: 6\n",
      "enter h: 6\n",
      "CROP IT\n"
     ]
    }
   ],
   "source": [
    "L = int(input(\"Enter L: \"))\n",
    "N = int(input(\"Enter N: \"))\n",
    "for i in range(N):\n",
    "    w = int(input(\"enter w: \"))\n",
    "    h = int(input(\"enter h: \"))\n",
    "    if w < L or h < L:\n",
    "        print(\"UPLOAD ANOTHER\")\n",
    "    else:\n",
    "        if w==L and h==L:\n",
    "            print(\"ACCEPTED\")\n",
    "        else:\n",
    "            print(\"CROP IT\")"
   ]
  },
  {
   "cell_type": "markdown",
   "metadata": {},
   "source": [
    "# Assignment 5 Day 3"
   ]
  },
  {
   "cell_type": "code",
   "execution_count": null,
   "metadata": {},
   "outputs": [],
   "source": [
    "'''➔ Ankit is in maze. The command center sent him a string which decodes to come\n",
    "out from the maze.\n",
    "➔ He is initially at (0, 0).\n",
    "➔ String contains L, R, U, D denoting left, right, up and down.\n",
    "➔ In each command he will traverse 1 unit distance in the respective direction.\n",
    "➔ For example if he is at (2, 0) and the command is L he will go to (1, 0).\n",
    "'''"
   ]
  },
  {
   "cell_type": "code",
   "execution_count": 3,
   "metadata": {},
   "outputs": [
    {
     "name": "stdout",
     "output_type": "stream",
     "text": [
      "Enter command string: RRLUUD\n",
      "Final position of Ankit is:  1   1\n"
     ]
    }
   ],
   "source": [
    "x = 0\n",
    "y = 0\n",
    "str = input(\"Enter command string: \")\n",
    "for i in range(0,len(str)):\n",
    "    if(str[i]=='L'):\n",
    "        x = x - 1\n",
    "    elif(str[i]=='R'):\n",
    "        x = x + 1\n",
    "    elif(str[i]=='U'):\n",
    "        y = y + 1\n",
    "    elif(str[i]=='D'):\n",
    "        y = y - 1\n",
    "    else:\n",
    "        continue\n",
    "else:\n",
    "    print(\"Final position of Ankit is: \", x, \" \", y)"
   ]
  },
  {
   "cell_type": "code",
   "execution_count": null,
   "metadata": {},
   "outputs": [],
   "source": []
  }
 ],
 "metadata": {
  "kernelspec": {
   "display_name": "Python 3",
   "language": "python",
   "name": "python3"
  },
  "language_info": {
   "codemirror_mode": {
    "name": "ipython",
    "version": 3
   },
   "file_extension": ".py",
   "mimetype": "text/x-python",
   "name": "python",
   "nbconvert_exporter": "python",
   "pygments_lexer": "ipython3",
   "version": "3.7.4"
  }
 },
 "nbformat": 4,
 "nbformat_minor": 2
}
