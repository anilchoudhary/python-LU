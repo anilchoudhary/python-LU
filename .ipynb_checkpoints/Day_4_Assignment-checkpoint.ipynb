{
 "cells": [
  {
   "cell_type": "markdown",
   "metadata": {},
   "source": [
    "# Question 1: Find all occurence of substring in the given string. "
   ]
  },
  {
   "cell_type": "code",
   "execution_count": 3,
   "metadata": {},
   "outputs": [
    {
     "name": "stdout",
     "output_type": "stream",
     "text": [
      "[5, 14, 25]\n"
     ]
    }
   ],
   "source": [
    "import re\n",
    "main_string = \"what we think we become; we are python programmer.\"\n",
    "substring = \"we\"\n",
    "\n",
    "matches = re.finditer(substring, main_string)\n",
    "\n",
    "matches_positions = [match.start() for match in matches]\n",
    "\n",
    "print(matches_positions)"
   ]
  },
  {
   "cell_type": "markdown",
   "metadata": {},
   "source": [
    "# Question 2: Explain islower() and isupper() with different kinds of strings."
   ]
  },
  {
   "cell_type": "code",
   "execution_count": 4,
   "metadata": {},
   "outputs": [
    {
     "name": "stdout",
     "output_type": "stream",
     "text": [
      "False\n",
      "True\n"
     ]
    }
   ],
   "source": [
    "string = 'LetsUpgrade is awesome!'\n",
    "print(string.islower()) \n",
    "  \n",
    "string = 'letsupgrade is awesome'\n",
    "print(string.islower())"
   ]
  },
  {
   "cell_type": "code",
   "execution_count": 5,
   "metadata": {},
   "outputs": [
    {
     "name": "stdout",
     "output_type": "stream",
     "text": [
      "False\n",
      "True\n"
     ]
    }
   ],
   "source": [
    "string = 'LetsUpgrade is awesome!'\n",
    "print(string.isupper()) \n",
    "  \n",
    "string = 'LETSUPGRADE IS AWESOME'\n",
    "print(string.isupper())"
   ]
  },
  {
   "cell_type": "code",
   "execution_count": null,
   "metadata": {},
   "outputs": [],
   "source": []
  }
 ],
 "metadata": {
  "kernelspec": {
   "display_name": "Python 3",
   "language": "python",
   "name": "python3"
  },
  "language_info": {
   "codemirror_mode": {
    "name": "ipython",
    "version": 3
   },
   "file_extension": ".py",
   "mimetype": "text/x-python",
   "name": "python",
   "nbconvert_exporter": "python",
   "pygments_lexer": "ipython3",
   "version": "3.7.4"
  }
 },
 "nbformat": 4,
 "nbformat_minor": 2
}
