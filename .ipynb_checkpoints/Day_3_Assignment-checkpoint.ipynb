{
 "cells": [
  {
   "cell_type": "markdown",
   "metadata": {},
   "source": [
    "# Question 1: Sum of n numbers using while loop"
   ]
  },
  {
   "cell_type": "code",
   "execution_count": 2,
   "metadata": {},
   "outputs": [
    {
     "name": "stdout",
     "output_type": "stream",
     "text": [
      "Please enter a number: 5\n",
      "The sum is:  15\n"
     ]
    }
   ],
   "source": [
    "n = int(input(\"Please enter a number: \"))\n",
    "sum = 0\n",
    "while(n>0):\n",
    "    sum += n\n",
    "    n -= 1\n",
    "print(\"The sum is: \", sum)"
   ]
  },
  {
   "cell_type": "markdown",
   "metadata": {},
   "source": [
    "# Question 2: Find a integer is prime or not"
   ]
  },
  {
   "cell_type": "code",
   "execution_count": 11,
   "metadata": {},
   "outputs": [
    {
     "name": "stdout",
     "output_type": "stream",
     "text": [
      "Please enter an integer: 121\n",
      "It is not prime number.\n"
     ]
    }
   ],
   "source": [
    "import math as m\n",
    "n = int(input(\"Please enter an integer: \"))\n",
    "flag = 1\n",
    "for i in range(2,n):\n",
    "    if(n%i==0):\n",
    "        flag = 0\n",
    "if(flag):\n",
    "    print(\"It is prime number.\")\n",
    "else:\n",
    "    print(\"It is not prime number.\")\n",
    "    "
   ]
  },
  {
   "cell_type": "code",
   "execution_count": null,
   "metadata": {},
   "outputs": [],
   "source": []
  }
 ],
 "metadata": {
  "kernelspec": {
   "display_name": "Python 3",
   "language": "python",
   "name": "python3"
  },
  "language_info": {
   "codemirror_mode": {
    "name": "ipython",
    "version": 3
   },
   "file_extension": ".py",
   "mimetype": "text/x-python",
   "name": "python",
   "nbconvert_exporter": "python",
   "pygments_lexer": "ipython3",
   "version": "3.7.4"
  }
 },
 "nbformat": 4,
 "nbformat_minor": 2
}
